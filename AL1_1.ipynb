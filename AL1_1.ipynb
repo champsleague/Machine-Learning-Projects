{
  "nbformat": 4,
  "nbformat_minor": 0,
  "metadata": {
    "colab": {
      "provenance": [],
      "authorship_tag": "ABX9TyM+mSToITwPVAyK/JQexPqb",
      "include_colab_link": true
    },
    "kernelspec": {
      "name": "python3",
      "display_name": "Python 3"
    },
    "language_info": {
      "name": "python"
    }
  },
  "cells": [
    {
      "cell_type": "markdown",
      "metadata": {
        "id": "view-in-github",
        "colab_type": "text"
      },
      "source": [
        "<a href=\"https://colab.research.google.com/github/champsleague/Machine-Learning-Projects/blob/main/AL1_1.ipynb\" target=\"_parent\"><img src=\"https://colab.research.google.com/assets/colab-badge.svg\" alt=\"Open In Colab\"/></a>"
      ]
    },
    {
      "cell_type": "code",
      "execution_count": null,
      "metadata": {
        "colab": {
          "base_uri": "https://localhost:8080/"
        },
        "id": "KaN75CwBpocd",
        "outputId": "967aab76-c106-4e2a-ee67-a21ab3ec508f"
      },
      "outputs": [
        {
          "output_type": "stream",
          "name": "stdout",
          "text": [
            "cluster labels types: [0 1 2 3 4 5 6 7]\n",
            "cluster labels types: [0 1 2]\n",
            "bandwidth value: 1.689\n"
          ]
        },
        {
          "output_type": "error",
          "ename": "TypeError",
          "evalue": "ignored",
          "traceback": [
            "\u001b[0;31m---------------------------------------------------------------------------\u001b[0m",
            "\u001b[0;31mTypeError\u001b[0m                                 Traceback (most recent call last)",
            "\u001b[0;32m<ipython-input-5-52189abb578e>\u001b[0m in \u001b[0;36m<module>\u001b[0;34m\u001b[0m\n\u001b[1;32m     31\u001b[0m \u001b[0mbest_bandwidth\u001b[0m \u001b[0;34m=\u001b[0m \u001b[0mestimate_bandwidth\u001b[0m\u001b[0;34m(\u001b[0m\u001b[0mX\u001b[0m\u001b[0;34m,\u001b[0m \u001b[0mquantile\u001b[0m\u001b[0;34m=\u001b[0m\u001b[0;36m0.25\u001b[0m\u001b[0;34m)\u001b[0m\u001b[0;34m\u001b[0m\u001b[0;34m\u001b[0m\u001b[0m\n\u001b[1;32m     32\u001b[0m \u001b[0;34m\u001b[0m\u001b[0m\n\u001b[0;32m---> 33\u001b[0;31m \u001b[0mmeanshift\u001b[0m\u001b[0;34m=\u001b[0m \u001b[0mMeanShift\u001b[0m\u001b[0;34m(\u001b[0m\u001b[0mbest_bandwidth\u001b[0m\u001b[0;34m)\u001b[0m\u001b[0;34m\u001b[0m\u001b[0;34m\u001b[0m\u001b[0m\n\u001b[0m\u001b[1;32m     34\u001b[0m \u001b[0mcluster_labels\u001b[0m \u001b[0;34m=\u001b[0m \u001b[0mmeanshift\u001b[0m\u001b[0;34m.\u001b[0m\u001b[0mfit_predict\u001b[0m\u001b[0;34m(\u001b[0m\u001b[0mX\u001b[0m\u001b[0;34m)\u001b[0m\u001b[0;34m\u001b[0m\u001b[0;34m\u001b[0m\u001b[0m\n\u001b[1;32m     35\u001b[0m \u001b[0mprint\u001b[0m\u001b[0;34m(\u001b[0m\u001b[0;34m'cluster labels types:'\u001b[0m\u001b[0;34m,\u001b[0m\u001b[0mnp\u001b[0m\u001b[0;34m.\u001b[0m\u001b[0munique\u001b[0m\u001b[0;34m(\u001b[0m\u001b[0mcluster_labels\u001b[0m\u001b[0;34m)\u001b[0m\u001b[0;34m)\u001b[0m\u001b[0;34m\u001b[0m\u001b[0;34m\u001b[0m\u001b[0m\n",
            "\u001b[0;31mTypeError\u001b[0m: __init__() takes 1 positional argument but 2 were given"
          ]
        }
      ],
      "source": [
        "import numpy as np\n",
        "from sklearn.datasets import make_blobs\n",
        "from sklearn.cluster import MeanShift\n",
        "\n",
        "X, y = make_blobs(n_samples=200, n_features=2, centers=3, \n",
        "                  cluster_std=0.8, random_state=0)\n",
        "\n",
        "meanshift= MeanShift(bandwidth=0.9)\n",
        "cluster_labels = meanshift.fit_predict(X)\n",
        "print('cluster labels types:', np.unique(cluster_labels))\n",
        "\n",
        "\n",
        "meanshift= MeanShift(bandwidth=1)\n",
        "cluster_labels = meanshift.fit_predict(X)\n",
        "print('cluster labels types:', np.unique(cluster_labels))\n",
        "\n",
        "\n",
        "from sklearn.cluster import estimate_bandwidth\n",
        "\n",
        "bandwidth = estimate_bandwidth(X,quantile=0.25)\n",
        "print('bandwidth value:', round(bandwidth,3))\n",
        "\n",
        "\n",
        "\n",
        "import pandas as pd\n",
        "\n",
        "clusterDF = pd.DataFrame(data=X, columns=['ftr1', 'ftr2'])\n",
        "clusterDF['target'] = y\n",
        "\n",
        "# calculate best bandwidth with estimate_bandwidth()\n",
        "best_bandwidth = estimate_bandwidth(X, quantile=0.25)\n",
        "\n",
        "meanshift= MeanShift(best_bandwidth)\n",
        "cluster_labels = meanshift.fit_predict(X)\n",
        "print('cluster labels types:',np.unique(cluster_labels))\n",
        "\n",
        "\n",
        "\n",
        "\n",
        "import matplotlib.pyplot as plt\n",
        "\n",
        "clusterDF['meanshift_label']  = cluster_labels\n",
        "centers = meanshift.cluster_centers_\n",
        "unique_labels = np.unique(cluster_labels)\n",
        "markers=['o', 's', '^', 'x', '*']\n",
        "\n",
        "for label in unique_labels:\n",
        "    label_cluster = clusterDF[clusterDF['meanshift_label']==label]\n",
        "    center_x_y = centers[label]\n",
        "\n",
        "    # Apply scatter plot with different markers for each cluster\n",
        "    plt.scatter(x=label_cluster['ftr1'], y=label_cluster['ftr2'], edgecolor='k', \n",
        "                marker=markers[label] )\n",
        "    \n",
        "    # Centralized visualization by cluster\n",
        "    plt.scatter(x=center_x_y[0], y=center_x_y[1], s=200, color='white',\n",
        "                edgecolor='k', alpha=0.9, marker=markers[label])\n",
        "    plt.scatter(x=center_x_y[0], y=center_x_y[1], s=70, color='k', edgecolor='k', \n",
        "                marker='$%d$' % label)\n",
        "    \n",
        "plt.show()\n",
        "\n",
        "\n",
        "\n",
        "print(clusterDF.groupby('target')['meanshift_label'].value_counts())\n",
        "\n",
        "\n"
      ]
    }
  ]
}