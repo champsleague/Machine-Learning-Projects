{
  "nbformat": 4,
  "nbformat_minor": 0,
  "metadata": {
    "colab": {
      "provenance": [],
      "collapsed_sections": [],
      "authorship_tag": "ABX9TyMFM1WZ9BX7ixsxU/Qsl5W3",
      "include_colab_link": true
    },
    "kernelspec": {
      "name": "python3",
      "display_name": "Python 3"
    },
    "language_info": {
      "name": "python"
    }
  },
  "cells": [
    {
      "cell_type": "markdown",
      "metadata": {
        "id": "view-in-github",
        "colab_type": "text"
      },
      "source": [
        "<a href=\"https://colab.research.google.com/github/champsleague/Machine-Learning-Projects/blob/main/ML_week10.ipynb\" target=\"_parent\"><img src=\"https://colab.research.google.com/assets/colab-badge.svg\" alt=\"Open In Colab\"/></a>"
      ]
    },
    {
      "cell_type": "code",
      "execution_count": 5,
      "metadata": {
        "colab": {
          "base_uri": "https://localhost:8080/"
        },
        "id": "ufhBD8l595zB",
        "outputId": "f82be43d-da63-4a75-86e8-19fa969059a4"
      },
      "outputs": [
        {
          "output_type": "stream",
          "name": "stdout",
          "text": [
            "           term    weight\n",
            "5  multilingual  0.204913\n",
            "3      database  0.197120\n",
            "4    literature  0.197120\n",
            "0            19  0.171092\n",
            "1         covid  0.171092\n",
            "2      covid 19  0.171092\n",
            "6    scientific  0.171092\n"
          ]
        }
      ],
      "source": [
        "from sklearn.feature_extraction.text import CountVectorizer\n",
        "from sklearn.feature_extraction.text import TfidfTransformer\n",
        "import numpy as np\n",
        "import pandas as pd\n",
        "import re\n",
        "\n",
        "sentences = list()\n",
        "with open(\"d1.txt\") as file:\n",
        "# with open(\"d2.txt\") as file:\n",
        "# with open(\"d3.txt\") as file:\n",
        "# with open(\"d4.txt\") as file:\n",
        "# with open(\"d5.txt\") as file:\n",
        "    for line in file:\n",
        "        for l in re.split(r\"\\.\\s|\\?\\s|\\!\\s|\\n\",line):\n",
        "            if l:\n",
        "                sentences.append(l)\n",
        "\n",
        "cvec = CountVectorizer(stop_words='english', min_df=2,\n",
        "max_df=0.5, ngram_range=(1,2))\n",
        "sf = cvec.fit_transform(sentences)\n",
        "\n",
        "\n",
        "transformer = TfidfTransformer(smooth_idf=False)\n",
        "transformed_weights = transformer.fit_transform(sf)\n",
        "weights = np.asarray(transformed_weights.mean(axis=0)).ravel().tolist()\n",
        "weights_df = pd.DataFrame({'term': cvec.get_feature_names_out(), 'weight': weights})\n",
        "\n",
        "print(weights_df.sort_values(by='weight',ascending=False).head(10))\n"
      ]
    }
  ]
}