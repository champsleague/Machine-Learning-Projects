{
  "nbformat": 4,
  "nbformat_minor": 0,
  "metadata": {
    "colab": {
      "provenance": [],
      "collapsed_sections": [],
      "authorship_tag": "ABX9TyMuEOMtLfo1RS3xdx7+wdf9",
      "include_colab_link": true
    },
    "kernelspec": {
      "name": "python3",
      "display_name": "Python 3"
    },
    "language_info": {
      "name": "python"
    }
  },
  "cells": [
    {
      "cell_type": "markdown",
      "metadata": {
        "id": "view-in-github",
        "colab_type": "text"
      },
      "source": [
        "<a href=\"https://colab.research.google.com/github/champsleague/Machine-Learning-Projects/blob/main/ML_week10.ipynb\" target=\"_parent\"><img src=\"https://colab.research.google.com/assets/colab-badge.svg\" alt=\"Open In Colab\"/></a>"
      ]
    },
    {
      "cell_type": "code",
      "execution_count": null,
      "metadata": {
        "colab": {
          "base_uri": "https://localhost:8080/"
        },
        "id": "ufhBD8l595zB",
        "outputId": "83ba66c7-919f-42fe-9c9c-a1ad1fa3a81a"
      },
      "outputs": [
        {
          "output_type": "stream",
          "name": "stdout",
          "text": [
            "           term    weight\n",
            "2   coronavirus  0.289443\n",
            "4      vaccines  0.289443\n",
            "0        carrie  0.178885\n",
            "1  carrie madej  0.178885\n",
            "3         madej  0.178885\n",
            "5         video  0.178885\n"
          ]
        }
      ],
      "source": [
        "from sklearn.feature_extraction.text import CountVectorizer\n",
        "from sklearn.feature_extraction.text import TfidfTransformer\n",
        "import numpy as np\n",
        "import pandas as pd\n",
        "import re\n",
        "\n",
        "sentences = list()\n",
        "# with open(\"d1.txt\") as file:\n",
        "# with open(\"d2.txt\") as file:\n",
        "# with open(\"d3.txt\") as file:\n",
        "# with open(\"d4.txt\") as file:\n",
        "with open(\"d5.txt\") as file:\n",
        "    for line in file:\n",
        "        for l in re.split(r\"\\.\\s|\\?\\s|\\!\\s|\\n\",line):\n",
        "            if l:\n",
        "                sentences.append(l)\n",
        "\n",
        "cvec = CountVectorizer(stop_words='english', min_df=2,\n",
        "max_df=0.5, ngram_range=(1,2))\n",
        "sf = cvec.fit_transform(sentences)\n",
        "\n",
        "\n",
        "transformer = TfidfTransformer(smooth_idf=False)\n",
        "transformed_weights = transformer.fit_transform(sf)\n",
        "weights = np.asarray(transformed_weights.mean(axis=0)).ravel().tolist()\n",
        "weights_df = pd.DataFrame({'term': cvec.get_feature_names_out(), 'weight': weights})\n",
        "\n",
        "print(weights_df.sort_values(by='weight',ascending=False).head(10))\n"
      ]
    }
  ]
}