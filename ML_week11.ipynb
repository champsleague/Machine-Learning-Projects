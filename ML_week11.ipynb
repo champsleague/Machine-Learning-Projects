{
  "nbformat": 4,
  "nbformat_minor": 0,
  "metadata": {
    "colab": {
      "provenance": [],
      "collapsed_sections": [],
      "authorship_tag": "ABX9TyNIc1srVx6XfjTMVradNulB",
      "include_colab_link": true
    },
    "kernelspec": {
      "name": "python3",
      "display_name": "Python 3"
    },
    "language_info": {
      "name": "python"
    }
  },
  "cells": [
    {
      "cell_type": "markdown",
      "metadata": {
        "id": "view-in-github",
        "colab_type": "text"
      },
      "source": [
        "<a href=\"https://colab.research.google.com/github/champsleague/Machine-Learning-Projects/blob/main/ML_week11.ipynb\" target=\"_parent\"><img src=\"https://colab.research.google.com/assets/colab-badge.svg\" alt=\"Open In Colab\"/></a>"
      ]
    },
    {
      "cell_type": "code",
      "execution_count": 3,
      "metadata": {
        "colab": {
          "base_uri": "https://localhost:8080/"
        },
        "id": "2JVcZKfuv63d",
        "outputId": "5cb2acc5-c898-4026-85bc-8acdafb59d3d"
      },
      "outputs": [
        {
          "output_type": "stream",
          "name": "stdout",
          "text": [
            "[[200, 150, 50], [250, 300, 50]]\n",
            "dof=2 \n",
            "\n",
            "[[180. 180.  40.]\n",
            " [270. 270.  60.]] \n",
            "\n",
            "probability=0.950, critical=5.991, stat=16.204\n",
            "Dependent (reject H0) \n",
            "\n",
            "significance=0.050, p=0.000\n",
            "Dependent (reject H0)\n"
          ]
        }
      ],
      "source": [
        "#Programming Homework 1\n",
        "\n",
        "from scipy.stats import chi2_contingency\n",
        "from scipy.stats import chi2\n",
        "#contingency table\n",
        "table = [ \n",
        "[200, 150, 50],\n",
        "[250, 300, 50]]\n",
        "print(table)\n",
        "stat, p, dof, expected = chi2_contingency(table)\n",
        "print('dof=%d' % dof,'\\n')\n",
        "print(expected,'\\n')\n",
        "\n",
        "\n",
        "#interpret test statistic\n",
        "prob = 0.95\n",
        "critical = chi2.ppf(prob, dof)\n",
        "print('probability=%.3f, critical=%.3f, stat=%.3f' % (prob, critical, stat))\n",
        "if abs(stat) >= critical:\n",
        "  print('Dependent (reject H0)','\\n')\n",
        "else:\n",
        "  print('Independent (fail to reject H0)','\\n')\n",
        "\n",
        "#interpret p value\n",
        "alpha = 1.0 - prob\n",
        "print('significance=%.3f, p=%.3f' % (alpha, p))\n",
        "if p <= alpha:\n",
        "  print('Dependent (reject H0)')\n",
        "else:\n",
        "  print('Independent (fail to reject H0)')"
      ]
    },
    {
      "cell_type": "code",
      "source": [
        "#Programming Homework 2\n",
        "\n",
        "import numpy as np\n",
        "from scipy import stats\n",
        "\n",
        "#Define 2 random distributions (for comparison)\n",
        "#Sample Size\n",
        "N = 10\n",
        "\n",
        "#Gaussian distributed data with mean = 2 and var = 1\n",
        "a = np.array([14, 15, 15, 16, 13, 8, 14,\n",
        "                        17, 16, 14, 19, 20, 21, 15,\n",
        "                        15, 16, 16, 13, 14, 12])\n",
        "\n",
        "#Gaussian distributed data with mean = 0 and var = 1\n",
        "b = np.array([15, 17, 14, 17, 14, 8, 12,\n",
        "                        19, 19, 14, 17, 22, 24, 16,\n",
        "                        13, 16, 13, 18, 15, 13])\n",
        "\n",
        "#Calculate the Standard Deviation\n",
        "#Calculate the variance to get the standard deviation\n",
        "#For unbiased max likelihood estimate, we have to divide the var by N-1, and therefore the parameter ddof = 1\n",
        "#\"var\" means variance, and ddof means delta degree of freedom\n",
        "var_a = a.var(ddof=1)\n",
        "var_b = b.var(ddof=1)\n",
        "\n",
        "#std deviation\n",
        "s = np.sqrt((var_a + var_b)/2)\n",
        "\n",
        "# Calculate the t-statistics\n",
        "t = (a.mean() - b.mean())/(s*np.sqrt(2/N))\n",
        "\n",
        "#Compare with the critical t value\n",
        "#degrees of freedom\n",
        "df = 2*N - 2\n",
        "\n",
        "#p value after comparison with the t \n",
        "p = 1 - stats.t.cdf(t,df=df)\n",
        "print(\"t = \" + str(t))\n",
        "print(\"p = \" + str(2*p), '\\n')\n",
        "\n",
        "# Cross check with the internal SciPy function\n",
        "# a, b are datasets generated earlier on “Code (2/5)”\n",
        "t2, p2 = stats.ttest_ind(a,b)\n",
        "print(\"t = \" + str(t2))\n",
        "print(\"p = \" + str(p2))"
      ],
      "metadata": {
        "colab": {
          "base_uri": "https://localhost:8080/"
        },
        "id": "vGkeX-tVpECq",
        "outputId": "0907230b-b5b3-4c29-a574-d3b53a5a07a4"
      },
      "execution_count": null,
      "outputs": [
        {
          "output_type": "stream",
          "name": "stdout",
          "text": [
            "t = -0.4481216443445703\n",
            "p = 1.3405875363791364 \n",
            "\n",
            "t = -0.6337397070250238\n",
            "p = 0.5300471010405257\n"
          ]
        }
      ]
    }
  ]
}