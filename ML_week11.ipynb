{
  "nbformat": 4,
  "nbformat_minor": 0,
  "metadata": {
    "colab": {
      "provenance": [],
      "collapsed_sections": [],
      "authorship_tag": "ABX9TyNgoY5ZxZ236sEPBtqqvpk0",
      "include_colab_link": true
    },
    "kernelspec": {
      "name": "python3",
      "display_name": "Python 3"
    },
    "language_info": {
      "name": "python"
    }
  },
  "cells": [
    {
      "cell_type": "markdown",
      "metadata": {
        "id": "view-in-github",
        "colab_type": "text"
      },
      "source": [
        "<a href=\"https://colab.research.google.com/github/champsleague/Machine-Learning-Projects/blob/main/ML_week11.ipynb\" target=\"_parent\"><img src=\"https://colab.research.google.com/assets/colab-badge.svg\" alt=\"Open In Colab\"/></a>"
      ]
    },
    {
      "cell_type": "code",
      "execution_count": null,
      "metadata": {
        "colab": {
          "base_uri": "https://localhost:8080/"
        },
        "id": "2JVcZKfuv63d",
        "outputId": "5cb2acc5-c898-4026-85bc-8acdafb59d3d"
      },
      "outputs": [
        {
          "output_type": "stream",
          "name": "stdout",
          "text": [
            "[[200, 150, 50], [250, 300, 50]]\n",
            "dof=2 \n",
            "\n",
            "[[180. 180.  40.]\n",
            " [270. 270.  60.]] \n",
            "\n",
            "probability=0.950, critical=5.991, stat=16.204\n",
            "Dependent (reject H0) \n",
            "\n",
            "significance=0.050, p=0.000\n",
            "Dependent (reject H0)\n"
          ]
        }
      ],
      "source": [
        "#Programming Homework 1\n",
        "\n",
        "from scipy.stats import chi2_contingency\n",
        "from scipy.stats import chi2\n",
        "#contingency table\n",
        "table = [ \n",
        "[200, 150, 50],\n",
        "[250, 300, 50]]\n",
        "print(table)\n",
        "stat, p, dof, expected = chi2_contingency(table)\n",
        "print('dof=%d' % dof,'\\n')\n",
        "print(expected,'\\n')\n",
        "\n",
        "\n",
        "#interpret test statistic\n",
        "prob = 0.95\n",
        "critical = chi2.ppf(prob, dof)\n",
        "print('probability=%.3f, critical=%.3f, stat=%.3f' % (prob, critical, stat))\n",
        "if abs(stat) >= critical:\n",
        "  print('Dependent (reject H0)','\\n')\n",
        "else:\n",
        "  print('Independent (fail to reject H0)','\\n')\n",
        "\n",
        "#interpret p value\n",
        "alpha = 1.0 - prob\n",
        "print('significance=%.3f, p=%.3f' % (alpha, p))\n",
        "if p <= alpha:\n",
        "  print('Dependent (reject H0)')\n",
        "else:\n",
        "  print('Independent (fail to reject H0)')"
      ]
    },
    {
      "cell_type": "code",
      "source": [
        "#Programming Homework 2\n",
        "\n",
        "import numpy as np\n",
        "from scipy import stats\n",
        "from math import sqrt\n",
        "import scipy.stats\n",
        "\n",
        "\n",
        "#Define 2 random distributions (for comparison)\n",
        "#Sample Size\n",
        "N = 10\n",
        "\n",
        "a = np.array([45,38,52,48,25,39,51,46,55,46])\n",
        "b = np.array([34,22,15,27,37,41,24,19,26,36])\n",
        "\n",
        "print('older adults : ',a)\n",
        "print('younger adults:',b,('\\n'))\n",
        "\n",
        "d1 = (sum(a-b))\n",
        "d2 = (sum((a-b)*(a-b)))\n",
        "d3 = d1**2\n",
        "\n",
        "\n",
        "#Calculate the Standard Deviation\n",
        "#Calculate the variance to get the standard deviation\n",
        "#For unbiased max likelihood estimate, we have to divide the var by N-1, and therefore the parameter ddof = 1\n",
        "#\"var\" means variance, and ddof means delta degree of freedom\n",
        "var_a = a.var(ddof=1)\n",
        "var_b = b.var(ddof=1)\n",
        "\n",
        "#std deviation\n",
        "s = np.sqrt((var_a + var_b)/2)\n",
        "\n",
        "# Calculate the t-statistics\n",
        "t = (d1/N)/sqrt((d2-(d3/N))/((N-1)*N))\n",
        "\n",
        "# find p-value for one-tailed test\n",
        "# t-value is 3.44, therefore put 3.44 in abs and the degree of freedom is equal to 9\n",
        "p = scipy.stats.t.sf(abs(3.44), df=9)\n",
        "\n",
        "print(\"value of t:\",t)\n",
        "print(\"value of p:\",p)\n"
      ],
      "metadata": {
        "colab": {
          "base_uri": "https://localhost:8080/"
        },
        "id": "vGkeX-tVpECq",
        "outputId": "9b285a42-05c8-49b3-8b14-49d0f35e4d53"
      },
      "execution_count": null,
      "outputs": [
        {
          "output_type": "stream",
          "name": "stdout",
          "text": [
            "older adults :  [45 38 52 48 25 39 51 46 55 46]\n",
            "younger adults: [34 22 15 27 37 41 24 19 26 36] \n",
            "\n",
            "value of t: 3.4409801445681243\n",
            "value of p: 0.003695256983885184\n"
          ]
        }
      ]
    },
    {
      "cell_type": "code",
      "source": [
        "## Import the packages\n",
        "import numpy as np\n",
        "from scipy import stats\n",
        "\n",
        "## Define 2 random distributions (for comparison)\n",
        "#Sample Size\n",
        "N = 10\n",
        "\n",
        "a = np.array([45,38,52,48,25,39,51,46,55,46])\n",
        "b = np.array([34,22,15,27,37,41,24,19,26,36])\n",
        "\n",
        "d1 = (sum(a-b))\n",
        "d2 = (sum((a-b)*(a-b)))\n",
        "d3 = d1**2\n",
        "\n",
        "# #Gaussian distributed data with mean = 2 and var = 1\n",
        "# a = np.random.randn(N) + 2\n",
        "# #Gaussian distributed data with mean = 0 and var = 1\n",
        "# b = np.random.randn(N)\n",
        "\n",
        "## Calculate the Standard Deviation\n",
        "#Calculate the variance to get the standard deviation\n",
        "#For unbiased max likelihood estimate, we have to divide the var by N-1, and therefore the parameter ddof = 1\n",
        "#”var” means variance, and ddof means delta degree of freedom\n",
        "var_a = a.var(ddof=1)\n",
        "var_b = b.var(ddof=1)\n",
        "#std deviation\n",
        "s = np.sqrt((var_a + var_b)/2)\n",
        "\n",
        "## Calculate the t-statistics\n",
        "t = (a.mean() - b.mean())/(s*np.sqrt(2/N))\n",
        "## Compare with the critical t value\n",
        "#degrees of freedom\n",
        "df = N - 1\n",
        "#p value after comparison with the t \n",
        "p = 1 - stats.t.cdf(t,df=df)\n",
        "print(\"t = \" + str(t))\n",
        "print(\"p = \" + str(2*p),'\\n')\n",
        "\n",
        "## Cross check with the internal SciPy function\n",
        "## a, b are datasets generated earlier on “Code (2/5)”\n",
        "t2, p2 = stats.ttest_ind(a,b)\n",
        "print(\"t = \" + str(t2))\n",
        "print(\"p = \" + str(p2))"
      ],
      "metadata": {
        "colab": {
          "base_uri": "https://localhost:8080/"
        },
        "id": "pJUrZcEOP4z4",
        "outputId": "8654bb6c-e93c-4964-ae3f-67b2bfa54122"
      },
      "execution_count": null,
      "outputs": [
        {
          "output_type": "stream",
          "name": "stdout",
          "text": [
            "t = 4.257546665558161\n",
            "p = 0.002118787243027054 \n",
            "\n",
            "t = 4.257546665558161\n",
            "p = 0.0004736633119019225\n"
          ]
        }
      ]
    }
  ]
}