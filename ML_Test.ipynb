{
  "nbformat": 4,
  "nbformat_minor": 0,
  "metadata": {
    "colab": {
      "provenance": [],
      "authorship_tag": "ABX9TyOJUQmcg4II195nML14/u26",
      "include_colab_link": true
    },
    "kernelspec": {
      "name": "python3",
      "display_name": "Python 3"
    },
    "language_info": {
      "name": "python"
    }
  },
  "cells": [
    {
      "cell_type": "markdown",
      "metadata": {
        "id": "view-in-github",
        "colab_type": "text"
      },
      "source": [
        "<a href=\"https://colab.research.google.com/github/champsleague/Machine-Learning-Projects/blob/main/ML_Test.ipynb\" target=\"_parent\"><img src=\"https://colab.research.google.com/assets/colab-badge.svg\" alt=\"Open In Colab\"/></a>"
      ]
    },
    {
      "cell_type": "code",
      "source": [
        "pip install surprise"
      ],
      "metadata": {
        "colab": {
          "base_uri": "https://localhost:8080/"
        },
        "id": "DUWrWhpWU1Ji",
        "outputId": "3520a28f-6627-4b4e-b12f-e437e56b4a0b"
      },
      "execution_count": 2,
      "outputs": [
        {
          "output_type": "stream",
          "name": "stdout",
          "text": [
            "Looking in indexes: https://pypi.org/simple, https://us-python.pkg.dev/colab-wheels/public/simple/\n",
            "Collecting surprise\n",
            "  Downloading surprise-0.1-py2.py3-none-any.whl (1.8 kB)\n",
            "Collecting scikit-surprise\n",
            "  Downloading scikit-surprise-1.1.1.tar.gz (11.8 MB)\n",
            "\u001b[K     |████████████████████████████████| 11.8 MB 2.5 MB/s \n",
            "\u001b[?25hRequirement already satisfied: joblib>=0.11 in /usr/local/lib/python3.7/dist-packages (from scikit-surprise->surprise) (1.2.0)\n",
            "Requirement already satisfied: numpy>=1.11.2 in /usr/local/lib/python3.7/dist-packages (from scikit-surprise->surprise) (1.21.6)\n",
            "Requirement already satisfied: scipy>=1.0.0 in /usr/local/lib/python3.7/dist-packages (from scikit-surprise->surprise) (1.7.3)\n",
            "Requirement already satisfied: six>=1.10.0 in /usr/local/lib/python3.7/dist-packages (from scikit-surprise->surprise) (1.15.0)\n",
            "Building wheels for collected packages: scikit-surprise\n",
            "  Building wheel for scikit-surprise (setup.py) ... \u001b[?25l\u001b[?25hdone\n",
            "  Created wheel for scikit-surprise: filename=scikit_surprise-1.1.1-cp37-cp37m-linux_x86_64.whl size=1633994 sha256=fde33ff5442380a6042b9a3f4d7df8b79a0878cb16810328f618dc168a54bbd6\n",
            "  Stored in directory: /root/.cache/pip/wheels/76/44/74/b498c42be47b2406bd27994e16c5188e337c657025ab400c1c\n",
            "Successfully built scikit-surprise\n",
            "Installing collected packages: scikit-surprise, surprise\n",
            "Successfully installed scikit-surprise-1.1.1 surprise-0.1\n"
          ]
        }
      ]
    },
    {
      "cell_type": "code",
      "execution_count": 12,
      "metadata": {
        "colab": {
          "base_uri": "https://localhost:8080/"
        },
        "id": "GEMLrdCmMQs5",
        "outputId": "299244b4-94c4-4588-d02b-66372d06a6d9"
      },
      "outputs": [
        {
          "output_type": "execute_result",
          "data": {
            "text/plain": [
              "[('Galaxy Quest', 4.888718539522184),\n",
              " ('Birdman of Alcatraz', 4.869300511961511),\n",
              " ('Flags of Our Fathers', 4.85261815327589),\n",
              " ('The Thomas Crown Affair', 4.843495790986965),\n",
              " ('Scarface', 4.810964301229698),\n",
              " ('While You Were Sleeping', 4.809595301079908),\n",
              " ('Ghost Rider', 4.8055622157473215),\n",
              " ('Nell', 4.783567713137495),\n",
              " ('Straw Dogs', 4.778832854310195),\n",
              " ('Dead Man', 4.771431939423963)]"
            ]
          },
          "metadata": {},
          "execution_count": 12
        }
      ],
      "source": [
        "# Matrix Factorization\n",
        "\n",
        "import pandas as pd\n",
        "import numpy as np\n",
        "\n",
        "import seaborn as sns\n",
        "import plotly.express as px\n",
        "import plotly.graph_objects as go\n",
        "import matplotlib.pyplot as plt\n",
        "\n",
        "from tqdm import tqdm\n",
        "\n",
        "import warnings\n",
        "warnings.filterwarnings('ignore')\n",
        "\n",
        "from surprise import Dataset,Reader\n",
        "from surprise.prediction_algorithms.matrix_factorization import SVD\n",
        "from surprise import accuracy\n",
        "\n",
        "\n",
        "ratings = pd.read_csv(\"ratings_small.csv\")\n",
        "movie_md = pd.read_csv(\"movies_metadata.csv\")\n",
        "ratings.head()\n",
        "\n",
        "\n",
        "# movie dataframe with votes more than 55\n",
        "movie_md = movie_md[movie_md['vote_count']>55][['id','title']]\n",
        "\n",
        "# IDs of movies with count more than 55\n",
        "movie_ids = [int(x) for x in movie_md['id'].values]\n",
        "\n",
        "# Select ratings of movies with more than 55 counts\n",
        "ratings = ratings[ratings['movieId'].isin(movie_ids)]\n",
        "\n",
        "# Reset Index\n",
        "ratings.reset_index(inplace=True, drop=True)\n",
        "\n",
        "# Print first 5 rows\n",
        "ratings.head()\n",
        "\n",
        "ratings.shape\n",
        "\n",
        "\n",
        "# Initialize a surprise reader object\n",
        "reader = Reader(line_format='user item rating', sep=',', rating_scale=(0,5), skip_lines=1)\n",
        "\n",
        "# Load the data\n",
        "data = Dataset.load_from_df(ratings[['userId','movieId','rating']], reader=reader)\n",
        "\n",
        "# Build trainset object(perform this only when you are using whole dataset to train)\n",
        "trainset = data.build_full_trainset()\n",
        "\n",
        "# Initialize model\n",
        "svd = SVD()\n",
        "\n",
        "# cross-validate\n",
        "svd.fit(trainset)\n",
        "\n",
        "svd.predict(uid=3,iid=2959,r_ui=5.0)\n",
        "svd.predict(uid=15,iid=2678,r_ui=1.0)\n",
        "\n",
        "\n",
        "\n",
        "def get_recommendations(data, movie_md, user_id, top_n, algo):\n",
        "    \n",
        "    # creating an empty list to store the recommended product ids\n",
        "    recommendations = []\n",
        "    \n",
        "    # creating an user item interactions matrix \n",
        "    user_movie_interactions_matrix = data.pivot(index='userId', columns='movieId', values='rating')\n",
        "    \n",
        "    # extracting those product ids which the user_id has not interacted yet\n",
        "    non_interacted_movies = user_movie_interactions_matrix.loc[user_id][user_movie_interactions_matrix.loc[user_id].isnull()].index.tolist()\n",
        "    \n",
        "    # looping through each of the product ids which user_id has not interacted yet\n",
        "    for item_id in non_interacted_movies:\n",
        "        \n",
        "        # predicting the ratings for those non interacted product ids by this user\n",
        "        est = algo.predict(user_id, item_id).est\n",
        "        \n",
        "        # appending the predicted ratings\n",
        "        movie_name = movie_md[movie_md['id']==str(item_id)]['title'].values[0]\n",
        "        recommendations.append((movie_name, est))\n",
        "\n",
        "    # sorting the predicted ratings in descending order\n",
        "    recommendations.sort(key=lambda x: x[1], reverse=True)\n",
        "\n",
        "    return recommendations[:top_n]\n",
        "    # returing top n highest predicted rating products for this user\n",
        "\n",
        "\n",
        "get_recommendations(data=ratings,movie_md=movie_md, user_id=654, top_n=10, algo=svd)\n",
        "\n"
      ]
    }
  ]
}