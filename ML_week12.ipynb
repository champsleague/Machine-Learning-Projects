{
  "nbformat": 4,
  "nbformat_minor": 0,
  "metadata": {
    "colab": {
      "provenance": [],
      "authorship_tag": "ABX9TyP002hO5avv053T5qVawIXt",
      "include_colab_link": true
    },
    "kernelspec": {
      "name": "python3",
      "display_name": "Python 3"
    },
    "language_info": {
      "name": "python"
    }
  },
  "cells": [
    {
      "cell_type": "markdown",
      "metadata": {
        "id": "view-in-github",
        "colab_type": "text"
      },
      "source": [
        "<a href=\"https://colab.research.google.com/github/champsleague/Machine-Learning-Projects/blob/main/ML_week12.ipynb\" target=\"_parent\"><img src=\"https://colab.research.google.com/assets/colab-badge.svg\" alt=\"Open In Colab\"/></a>"
      ]
    },
    {
      "cell_type": "code",
      "execution_count": null,
      "metadata": {
        "id": "FI7-FDUVBiDR",
        "colab": {
          "base_uri": "https://localhost:8080/"
        },
        "outputId": "1d250f4b-fb32-4a91-882b-5fc10acbe7f7"
      },
      "outputs": [
        {
          "output_type": "stream",
          "name": "stdout",
          "text": [
            "Weather: [2 2 0 1 1 1 0 2 2 1 2 0 0 1]\n",
            "Temp: [1 1 1 2 0 0 0 2 0 2 2 2 1 2]\n",
            "Play: [0 0 1 1 1 0 1 0 1 1 1 1 1 0] \n",
            "\n",
            "[(2, 1), (2, 1), (0, 1), (1, 2), (1, 0), (1, 0), (0, 0), (2, 2), (2, 0), (1, 2), (2, 2), (0, 2), (0, 1), (1, 2)]\n",
            "Predicted Value: [1]\n"
          ]
        }
      ],
      "source": [
        "\n",
        "import numpy as np\n",
        "\n",
        "# Assigning features and label variables\n",
        "weather=np.array(['Sunny','Sunny','Overcast','Rainy','Rainy','Rainy','Overcast','Sunny','Sunny', 'Rainy','Sunny','Overcast','Overcast','Rainy'])\n",
        "temp=np.array(['Hot','Hot','Hot','Mild','Cool','Cool','Cool','Mild','Cool','Mild','Mild','Mild','Hot','Mild'])\n",
        "play=np.array(['No','No','Yes','Yes','Yes','No','Yes','No','Yes','Yes','Yes','Yes','Yes','No'])\n",
        "\n",
        "# Import LabelEncoder\n",
        "from sklearn import preprocessing\n",
        "\n",
        "#create labelEncoder\n",
        "le = preprocessing.LabelEncoder()\n",
        "\n",
        "# Convert string labels into numbers.\n",
        "weather_encoded=le.fit_transform(weather)\n",
        "print(\"Weather:\",weather_encoded)\n",
        "\n",
        "\n",
        "temp_encoded=le.fit_transform(temp)\n",
        "label=le.fit_transform(play)\n",
        "print(\"Temp:\",temp_encoded)\n",
        "print(\"Play:\",label,'\\n')\n",
        "\n",
        "features=list(zip(weather_encoded,temp_encoded))\n",
        "print(features)\n",
        "\n",
        "#Import Gaussian Naive Bayes model\n",
        "from sklearn.naive_bayes import GaussianNB\n",
        "\n",
        "#Create a Gaussian Classifier\n",
        "model = GaussianNB()\n",
        "\n",
        "#Train the model using training set.\n",
        "model.fit(features,label) \n",
        "\n",
        "#Predict Output\n",
        "predicted= model.predict([[0,2]]) # 0:Overcast, 2:Mild\n",
        "print(\"Predicted Value:\", predicted)"
      ]
    },
    {
      "cell_type": "code",
      "source": [
        "import numpy as np\n",
        "\n",
        "# Assigning features and label variables\n",
        "fever=['low','high','low','low','low','low','high','low','low','high',\n",
        "         'medium','low','low','low','high','low','medium','high','low','low',\n",
        "         'low','high','low','low','high','medium','low','medium','low','high']\n",
        "\n",
        "sinus=['No','No','Yes','Yes','Yes','No','Yes','No','Yes','Yes',\n",
        "       'Yes','Yes','Yes','No','Yes','Yes','No','Yes','No','No',\n",
        "       'Yes','Yes','No','Yes','No','Yes','Yes','No','Yes','Yes']\n",
        "\n",
        "ache=['Yes','No','Yes','Yes','Yes','No','Yes','No','No','Yes',\n",
        "       'Yes','No','No','Yes','Yes','Yes','No','No','Yes','No',\n",
        "       'Yes','Yes','No','Yes','No','Yes','Yes','No','No','Yes']\n",
        "\n",
        "swell=['No','No','Yes','No','Yes','No','Yes','No','Yes','Yes',\n",
        "       'Yes','Yes','Yes','No','Yes','No','No','Yes','No','No',\n",
        "       'Yes','No','No','Yes','No','Yes','Yes','No','Yes','No']\n",
        "\n",
        "headache=['Yes','No','Yes','Yes','No','No','Yes','No','Yes','Yes',\n",
        "       'No','Yes','No','Yes','Yes','Yes','No','Yes','No','No',\n",
        "       'Yes','No','No','Yes','No','Yes','Yes','No','No','Yes']\n",
        "\n",
        "\n",
        "flu=['Yes','No','Yes','Yes','No','No','No','No','Yes','Yes',\n",
        "       'No','Yes','No','Yes','Yes','Yes','No','Yes','No','Yes',\n",
        "       'Yes','No','No','Yes','No','Yes','Yes','No','No','Yes']\n",
        "\n",
        "# Import LabelEncoder\n",
        "from sklearn import preprocessing\n",
        "\n",
        "#create labelEncoder\n",
        "le = preprocessing.LabelEncoder()\n",
        "\n",
        "# Convert string labels into numbers.\n",
        "fever_encoded=le.fit_transform(fever)\n",
        "print(\"fever:\",fever_encoded)\n",
        "\n",
        "\n",
        "sinus_encoded=le.fit_transform(sinus)\n",
        "ache_encoded=le.fit_transform(ache)\n",
        "swell_encoded=le.fit_transform(swell)\n",
        "headache_encoded=le.fit_transform(headache)\n",
        "label=le.fit_transform(flu)\n",
        "\n",
        "print(\"sinus:\",sinus_encoded)\n",
        "print(\"ache:\",ache_encoded)\n",
        "print(\"swell:\",swell_encoded)\n",
        "print(\"headache:\",headache_encoded)\n",
        "print(\"flu:\",label,'\\n')\n",
        "\n",
        "features=list(zip(fever_encoded,\n",
        "                  sinus_encoded,\n",
        "                  ache_encoded,\n",
        "                  swell_encoded,\n",
        "                  headache_encoded))\n",
        "print(features)\n",
        "\n",
        "#Import Gaussian Naive Bayes model\n",
        "from sklearn.naive_bayes import GaussianNB\n",
        "\n",
        "#Create a Gaussian Classifier\n",
        "model = GaussianNB()\n",
        "\n",
        "#Train the model using training set.\n",
        "model.fit(features,label) \n",
        "\n",
        "#Predict Output\n",
        "predicted= model.predict([[2,1,0,0,0]]) \n",
        "#fever:mild ->2, sinus:Yes ->1, ache:No ->0, swell:No ->0, headache:No ->0\n",
        "\n",
        "print(\"Predicted Value:\", predicted) \n",
        "#predicted Value number is 0, therefore the prediction for flu is No"
      ],
      "metadata": {
        "colab": {
          "base_uri": "https://localhost:8080/"
        },
        "id": "B5BkEcjDwKTO",
        "outputId": "dfa75981-1a0e-464f-fce2-a814eb027f4d"
      },
      "execution_count": null,
      "outputs": [
        {
          "output_type": "stream",
          "name": "stdout",
          "text": [
            "fever: [1 0 1 1 1 1 0 1 1 0 2 1 1 1 0 1 2 0 1 1 1 0 1 1 0 2 1 2 1 0]\n",
            "sinus: [0 0 1 1 1 0 1 0 1 1 1 1 1 0 1 1 0 1 0 0 1 1 0 1 0 1 1 0 1 1]\n",
            "ache: [1 0 1 1 1 0 1 0 0 1 1 0 0 1 1 1 0 0 1 0 1 1 0 1 0 1 1 0 0 1]\n",
            "swell: [0 0 1 0 1 0 1 0 1 1 1 1 1 0 1 0 0 1 0 0 1 0 0 1 0 1 1 0 1 0]\n",
            "headache: [1 0 1 1 0 0 1 0 1 1 0 1 0 1 1 1 0 1 0 0 1 0 0 1 0 1 1 0 0 1]\n",
            "flu: [1 0 1 1 0 0 0 0 1 1 0 1 0 1 1 1 0 1 0 1 1 0 0 1 0 1 1 0 0 1] \n",
            "\n",
            "[(1, 0, 1, 0, 1), (0, 0, 0, 0, 0), (1, 1, 1, 1, 1), (1, 1, 1, 0, 1), (1, 1, 1, 1, 0), (1, 0, 0, 0, 0), (0, 1, 1, 1, 1), (1, 0, 0, 0, 0), (1, 1, 0, 1, 1), (0, 1, 1, 1, 1), (2, 1, 1, 1, 0), (1, 1, 0, 1, 1), (1, 1, 0, 1, 0), (1, 0, 1, 0, 1), (0, 1, 1, 1, 1), (1, 1, 1, 0, 1), (2, 0, 0, 0, 0), (0, 1, 0, 1, 1), (1, 0, 1, 0, 0), (1, 0, 0, 0, 0), (1, 1, 1, 1, 1), (0, 1, 1, 0, 0), (1, 0, 0, 0, 0), (1, 1, 1, 1, 1), (0, 0, 0, 0, 0), (2, 1, 1, 1, 1), (1, 1, 1, 1, 1), (2, 0, 0, 0, 0), (1, 1, 0, 1, 0), (0, 1, 1, 0, 1)]\n",
            "Predicted Value: [0]\n"
          ]
        }
      ]
    },
    {
      "cell_type": "code",
      "source": [
        "# load the iris dataset\n",
        "from sklearn.datasets import load_iris\n",
        "iris = load_iris()\n",
        "\n",
        "# store the feature matrix (X) and response vector (y)\n",
        "X = iris.data\n",
        "y = iris.target\n",
        "\n",
        "# splitting X and y into training and testing sets\n",
        "from sklearn.model_selection import train_test_split\n",
        "X_train, X_test, y_train, y_test = train_test_split(X, y, test_size=0.4, random_state=1)\n",
        "\n",
        "# training the model on training set\n",
        "from sklearn.naive_bayes import GaussianNB\n",
        "gnb = GaussianNB()\n",
        "gnb.fit(X_train, y_train)\n",
        "\n",
        "# making predictions on the testing set\n",
        "y_pred = gnb.predict(X_test)\n",
        "print(y_pred)\n",
        "\n",
        "# comparing actual response values (y_test) with predicted response values (y_pred)\n",
        "from sklearn import metrics\n",
        "print(\"Gaussian Naive Bayes model accuracy(in %):\", metrics.accuracy_score(y_test, y_pred)*100)\n"
      ],
      "metadata": {
        "colab": {
          "base_uri": "https://localhost:8080/"
        },
        "id": "Ojrw-2tpnivz",
        "outputId": "2669c3ca-ac6f-408a-fb5d-a248fffcef37"
      },
      "execution_count": null,
      "outputs": [
        {
          "output_type": "stream",
          "name": "stdout",
          "text": [
            "[0 1 1 0 2 2 2 0 0 2 1 0 2 1 1 0 1 1 0 0 1 1 2 0 2 1 0 0 1 2 1 2 1 2 2 0 1\n",
            " 0 1 2 2 0 1 2 1 2 0 0 0 1 0 0 2 2 2 2 2 1 2 1]\n",
            "Gaussian Naive Bayes model accuracy(in %): 95.0\n"
          ]
        }
      ]
    },
    {
      "cell_type": "code",
      "source": [
        "# Import LabelEncoder\n",
        "from sklearn import preprocessing\n",
        "\n",
        "#Generating the Gaussian Naive Bayes model\n",
        "from sklearn.naive_bayes import GaussianNB\n",
        "\n",
        "# Assign features and encoding labels\n",
        "weather=['Sunny','Sunny','Overcast','Rainy','Rainy','Rainy','Overcast','Sunny','Sunny',\n",
        "'Rainy','Sunny','Overcast','Overcast','Rainy']\n",
        "humidity=['High','High','High','Medium','Low','Low','Low','Medium','Low','Medium','Medium','Medium','High','Medium']\n",
        "\n",
        "batfirst=['No','No','Yes','Yes','Yes','No','Yes','No','Yes','Yes','Yes','Yes','Yes','No']\n",
        "\n",
        "# Creating labelEncoder\n",
        "le = preprocessing.LabelEncoder()\n",
        "# Converting string labels into numbers.\n",
        "weather_encoded=le.fit_transform(weather)\n",
        "hum_encoded=le.fit_transform(humidity)\n",
        "label=le.fit_transform(batfirst)\n",
        "print(weather_encoded,hum_encoded,label)\n",
        "\n",
        "\n",
        "#Combining weather and humidity in a single tuple as features\n",
        "features=list(zip(weather_encoded,hum_encoded))\n",
        "\n",
        "#Create a Gaussian Classifier\n",
        "model = GaussianNB()\n",
        "model.fit(features,label) #Train the model using training set.\n",
        "\n",
        "print(\"Enter Weather and Humidtity conditions : \")\n"
      ],
      "metadata": {
        "colab": {
          "base_uri": "https://localhost:8080/"
        },
        "id": "I0FP8mU0uo9K",
        "outputId": "780ac6e7-4d4b-4460-931f-06459b58a005"
      },
      "execution_count": null,
      "outputs": [
        {
          "output_type": "stream",
          "name": "stdout",
          "text": [
            "[2 2 0 1 1 1 0 2 2 1 2 0 0 1] [0 0 0 2 1 1 1 2 1 2 2 2 0 2] [0 0 1 1 1 0 1 0 1 1 1 1 1 0]\n",
            "Enter Weather and Humidtity conditions : \n"
          ]
        }
      ]
    }
  ]
}