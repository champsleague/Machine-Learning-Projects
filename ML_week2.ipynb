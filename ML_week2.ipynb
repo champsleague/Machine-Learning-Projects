{
  "nbformat": 4,
  "nbformat_minor": 0,
  "metadata": {
    "colab": {
      "provenance": [],
      "collapsed_sections": [],
      "authorship_tag": "ABX9TyOJvYVk0jN9dgGMePqWZfxa",
      "include_colab_link": true
    },
    "kernelspec": {
      "name": "python3",
      "display_name": "Python 3"
    },
    "language_info": {
      "name": "python"
    }
  },
  "cells": [
    {
      "cell_type": "markdown",
      "metadata": {
        "id": "view-in-github",
        "colab_type": "text"
      },
      "source": [
        "<a href=\"https://colab.research.google.com/github/champsleague/Machine-Learning-Projects/blob/main/ML_week2.ipynb\" target=\"_parent\"><img src=\"https://colab.research.google.com/assets/colab-badge.svg\" alt=\"Open In Colab\"/></a>"
      ]
    },
    {
      "cell_type": "code",
      "execution_count": null,
      "metadata": {
        "id": "TkNhZKST-uZC"
      },
      "outputs": [],
      "source": [
        "import numpy as np\n",
        "\n",
        "X = np.array([-2,-1,0, 1,2]) \n",
        "Y = np.array([1, 1, 0, 1, 1])\n",
        "\n",
        "print(X,Y)\n",
        "\n",
        "gamma = 0.1;\n",
        "center1 = [-1,0]\n",
        "x1 = [-2,0]\n",
        "\n",
        "a= np.exp(-gamma*np.power(np.array([x1]) -np.array([center1]),2) \n",
        "print(a)"
      ]
    },
    {
      "cell_type": "code",
      "source": [
        "# import libraries\n",
        "from sklearn.svm import SVC\n",
        "from sklearn.metrics import classification_report,confusion_matrix\n",
        "from sklearn.model_selection import train_test_split\n",
        "# (omitted) import dataset\n",
        "# split the dataset into train set and test set\n",
        "X_train, X_test, y_train, y_test = train_test_split(X, y, test_size = 0.20) \n",
        "\n",
        "# create an SVC classifier model\n",
        "svclassifier = SVC(kernel='linear')\n",
        "# fit the model to train dataset\n",
        "svclassifier.fit(X_train, y_train)\n",
        "# make predictions using the trained model\n",
        "y_pred = svclassifier.predict(X_test)\n",
        "# evaluate the model\n",
        "print(confusion_matrix(y_test,y_pred))\n",
        "print(classification_report(y_test,y_pred))\n"
      ],
      "metadata": {
        "id": "4QEXoB8IMAM6"
      },
      "execution_count": null,
      "outputs": []
    },
    {
      "cell_type": "code",
      "source": [
        "# uses built-in one vs all\n",
        "from sklearn.datasets import make_classification\n",
        "from sklearn.linear_model import LogisticRegression\n",
        "# define dataset\n",
        "X, y = make_classification(n_samples=1000, \n",
        "n_features=10, n_informative=5, n_redundant=5, \n",
        "n_classes=3, random_state=1)\n",
        "# define model\n",
        "model = LogisticRegression(multi_class='ovr')\n",
        "# fit model\n",
        "model.fit(X, y)\n",
        "# make predictions\n",
        "yhat = model.predict(X)\n",
        "from sklearn.datasets import make_classification\n",
        "from sklearn.svm import SVC\n",
        "# define dataset\n",
        "X, y = make_classification(n_samples=1000, \n",
        "n_features=10, n_informative=5, n_redundant=5, \n",
        "n_classes=3, random_state=1)\n",
        "# define model\n",
        "model = SVC(decision_function_shape='ovo')\n",
        "# fit model\n",
        "model.fit(X, y)\n",
        "# make predictions\n",
        "yhat = model.predict(X)\n"
      ],
      "metadata": {
        "id": "_9aBILKzMBW6"
      },
      "execution_count": 17,
      "outputs": []
    }
  ]
}